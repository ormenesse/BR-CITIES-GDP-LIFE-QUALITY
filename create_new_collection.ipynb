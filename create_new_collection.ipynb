{
 "cells": [
  {
   "cell_type": "code",
   "execution_count": 1,
   "metadata": {},
   "outputs": [],
   "source": [
    "import numpy as np\n",
    "import pandas as pd\n",
    "import pymongo\n",
    "import base64\n",
    "import string"
   ]
  },
  {
   "cell_type": "code",
   "execution_count": 15,
   "metadata": {},
   "outputs": [],
   "source": [
    "import random"
   ]
  },
  {
   "cell_type": "code",
   "execution_count": 2,
   "metadata": {},
   "outputs": [],
   "source": [
    "df = pd.read_csv('base_municipios_IDH_PIB_LOC')"
   ]
  },
  {
   "cell_type": "code",
   "execution_count": 3,
   "metadata": {},
   "outputs": [
    {
     "data": {
      "text/plain": [
       "Index(['Unnamed: 0', 'Nome da Unidade da Federação', 'IDHM', 'IDHM Educação',\n",
       "       'IDHM Longevidade', 'IDHM Renda', 'Sigla da Unidade da Federação',\n",
       "       'Nome do Município', 'PIB', 'PIB Per Capita', 'população estimada',\n",
       "       'codigo_ibge', 'latitude', 'longitude'],\n",
       "      dtype='object')"
      ]
     },
     "execution_count": 3,
     "metadata": {},
     "output_type": "execute_result"
    }
   ],
   "source": [
    "df.columns"
   ]
  },
  {
   "cell_type": "code",
   "execution_count": 4,
   "metadata": {},
   "outputs": [],
   "source": [
    "df = df.drop(columns=['Unnamed: 0'])"
   ]
  },
  {
   "cell_type": "code",
   "execution_count": 5,
   "metadata": {},
   "outputs": [
    {
     "data": {
      "text/plain": [
       "Index(['Nome da Unidade da Federação', 'IDHM', 'IDHM Educação',\n",
       "       'IDHM Longevidade', 'IDHM Renda', 'Sigla da Unidade da Federação',\n",
       "       'Nome do Município', 'PIB', 'PIB Per Capita', 'população estimada',\n",
       "       'codigo_ibge', 'latitude', 'longitude'],\n",
       "      dtype='object')"
      ]
     },
     "execution_count": 5,
     "metadata": {},
     "output_type": "execute_result"
    }
   ],
   "source": [
    "df.columns"
   ]
  },
  {
   "cell_type": "code",
   "execution_count": 6,
   "metadata": {},
   "outputs": [
    {
     "data": {
      "text/html": [
       "<div>\n",
       "<style scoped>\n",
       "    .dataframe tbody tr th:only-of-type {\n",
       "        vertical-align: middle;\n",
       "    }\n",
       "\n",
       "    .dataframe tbody tr th {\n",
       "        vertical-align: top;\n",
       "    }\n",
       "\n",
       "    .dataframe thead th {\n",
       "        text-align: right;\n",
       "    }\n",
       "</style>\n",
       "<table border=\"1\" class=\"dataframe\">\n",
       "  <thead>\n",
       "    <tr style=\"text-align: right;\">\n",
       "      <th></th>\n",
       "      <th>Nome da Unidade da Federação</th>\n",
       "      <th>IDHM</th>\n",
       "      <th>IDHM Educação</th>\n",
       "      <th>IDHM Longevidade</th>\n",
       "      <th>IDHM Renda</th>\n",
       "      <th>Sigla da Unidade da Federação</th>\n",
       "      <th>Nome do Município</th>\n",
       "      <th>PIB</th>\n",
       "      <th>PIB Per Capita</th>\n",
       "      <th>população estimada</th>\n",
       "      <th>codigo_ibge</th>\n",
       "      <th>latitude</th>\n",
       "      <th>longitude</th>\n",
       "    </tr>\n",
       "  </thead>\n",
       "  <tbody>\n",
       "    <tr>\n",
       "      <th>0</th>\n",
       "      <td>Rondônia</td>\n",
       "      <td>0.641</td>\n",
       "      <td>0.526</td>\n",
       "      <td>0.763</td>\n",
       "      <td>0.657</td>\n",
       "      <td>RO</td>\n",
       "      <td>Alta Floresta D'Oeste</td>\n",
       "      <td>262076.878</td>\n",
       "      <td>10731.18</td>\n",
       "      <td>24422</td>\n",
       "      <td>1100015</td>\n",
       "      <td>-11.92830</td>\n",
       "      <td>-61.9953</td>\n",
       "    </tr>\n",
       "    <tr>\n",
       "      <th>1</th>\n",
       "      <td>Rondônia</td>\n",
       "      <td>0.702</td>\n",
       "      <td>0.600</td>\n",
       "      <td>0.806</td>\n",
       "      <td>0.716</td>\n",
       "      <td>RO</td>\n",
       "      <td>Ariquemes</td>\n",
       "      <td>1364693.780</td>\n",
       "      <td>15103.86</td>\n",
       "      <td>90353</td>\n",
       "      <td>1100023</td>\n",
       "      <td>-9.90571</td>\n",
       "      <td>-63.0325</td>\n",
       "    </tr>\n",
       "    <tr>\n",
       "      <th>2</th>\n",
       "      <td>Rondônia</td>\n",
       "      <td>0.650</td>\n",
       "      <td>0.559</td>\n",
       "      <td>0.757</td>\n",
       "      <td>0.650</td>\n",
       "      <td>RO</td>\n",
       "      <td>Cabixi</td>\n",
       "      <td>69611.114</td>\n",
       "      <td>11033.62</td>\n",
       "      <td>6309</td>\n",
       "      <td>1100031</td>\n",
       "      <td>-13.49450</td>\n",
       "      <td>-60.5520</td>\n",
       "    </tr>\n",
       "    <tr>\n",
       "      <th>3</th>\n",
       "      <td>Rondônia</td>\n",
       "      <td>0.718</td>\n",
       "      <td>0.620</td>\n",
       "      <td>0.821</td>\n",
       "      <td>0.727</td>\n",
       "      <td>RO</td>\n",
       "      <td>Cacoal</td>\n",
       "      <td>1186494.091</td>\n",
       "      <td>15095.15</td>\n",
       "      <td>78601</td>\n",
       "      <td>1100049</td>\n",
       "      <td>-11.43430</td>\n",
       "      <td>-61.4562</td>\n",
       "    </tr>\n",
       "    <tr>\n",
       "      <th>4</th>\n",
       "      <td>Rondônia</td>\n",
       "      <td>0.692</td>\n",
       "      <td>0.602</td>\n",
       "      <td>0.799</td>\n",
       "      <td>0.688</td>\n",
       "      <td>RO</td>\n",
       "      <td>Cerejeiras</td>\n",
       "      <td>222021.189</td>\n",
       "      <td>13037.06</td>\n",
       "      <td>17030</td>\n",
       "      <td>1100056</td>\n",
       "      <td>-13.18700</td>\n",
       "      <td>-60.8168</td>\n",
       "    </tr>\n",
       "  </tbody>\n",
       "</table>\n",
       "</div>"
      ],
      "text/plain": [
       "  Nome da Unidade da Federação   IDHM  IDHM Educação  IDHM Longevidade  \\\n",
       "0                     Rondônia  0.641          0.526             0.763   \n",
       "1                     Rondônia  0.702          0.600             0.806   \n",
       "2                     Rondônia  0.650          0.559             0.757   \n",
       "3                     Rondônia  0.718          0.620             0.821   \n",
       "4                     Rondônia  0.692          0.602             0.799   \n",
       "\n",
       "   IDHM Renda Sigla da Unidade da Federação      Nome do Município  \\\n",
       "0       0.657                            RO  Alta Floresta D'Oeste   \n",
       "1       0.716                            RO              Ariquemes   \n",
       "2       0.650                            RO                 Cabixi   \n",
       "3       0.727                            RO                 Cacoal   \n",
       "4       0.688                            RO             Cerejeiras   \n",
       "\n",
       "           PIB  PIB Per Capita  população estimada  codigo_ibge  latitude  \\\n",
       "0   262076.878        10731.18               24422      1100015 -11.92830   \n",
       "1  1364693.780        15103.86               90353      1100023  -9.90571   \n",
       "2    69611.114        11033.62                6309      1100031 -13.49450   \n",
       "3  1186494.091        15095.15               78601      1100049 -11.43430   \n",
       "4   222021.189        13037.06               17030      1100056 -13.18700   \n",
       "\n",
       "   longitude  \n",
       "0   -61.9953  \n",
       "1   -63.0325  \n",
       "2   -60.5520  \n",
       "3   -61.4562  \n",
       "4   -60.8168  "
      ]
     },
     "execution_count": 6,
     "metadata": {},
     "output_type": "execute_result"
    }
   ],
   "source": [
    "df.head()"
   ]
  },
  {
   "cell_type": "code",
   "execution_count": 7,
   "metadata": {},
   "outputs": [],
   "source": [
    "columns = ['stateName', 'idhm', 'idhmEducation', 'idhmLongevity', 'idhmIncome', 'state', 'city', 'gdp', 'gdpPerCapita', 'population', 'ibge', 'latitude', 'logintude']"
   ]
  },
  {
   "cell_type": "code",
   "execution_count": 8,
   "metadata": {},
   "outputs": [],
   "source": [
    "df.columns = columns"
   ]
  },
  {
   "cell_type": "code",
   "execution_count": 9,
   "metadata": {},
   "outputs": [],
   "source": [
    "client = pymongo.MongoClient(base64.b64decode('').decode(), ssl=True)  "
   ]
  },
  {
   "cell_type": "code",
   "execution_count": 10,
   "metadata": {},
   "outputs": [],
   "source": [
    "def id_generator(size=10, chars=string.ascii_uppercase + string.digits + string.ascii_lowercase):\n",
    "    return ''.join(random.choice(chars) for _ in range(size))"
   ]
  },
  {
   "cell_type": "code",
   "execution_count": 11,
   "metadata": {},
   "outputs": [
    {
     "data": {
      "text/html": [
       "<div>\n",
       "<style scoped>\n",
       "    .dataframe tbody tr th:only-of-type {\n",
       "        vertical-align: middle;\n",
       "    }\n",
       "\n",
       "    .dataframe tbody tr th {\n",
       "        vertical-align: top;\n",
       "    }\n",
       "\n",
       "    .dataframe thead th {\n",
       "        text-align: right;\n",
       "    }\n",
       "</style>\n",
       "<table border=\"1\" class=\"dataframe\">\n",
       "  <thead>\n",
       "    <tr style=\"text-align: right;\">\n",
       "      <th></th>\n",
       "      <th>stateName</th>\n",
       "      <th>idhm</th>\n",
       "      <th>idhmEducation</th>\n",
       "      <th>idhmLongevity</th>\n",
       "      <th>idhmIncome</th>\n",
       "      <th>state</th>\n",
       "      <th>city</th>\n",
       "      <th>gdp</th>\n",
       "      <th>gdpPerCapita</th>\n",
       "      <th>population</th>\n",
       "      <th>ibge</th>\n",
       "      <th>latitude</th>\n",
       "      <th>logintude</th>\n",
       "    </tr>\n",
       "  </thead>\n",
       "  <tbody>\n",
       "    <tr>\n",
       "      <th>0</th>\n",
       "      <td>Rondônia</td>\n",
       "      <td>0.641</td>\n",
       "      <td>0.526</td>\n",
       "      <td>0.763</td>\n",
       "      <td>0.657</td>\n",
       "      <td>RO</td>\n",
       "      <td>Alta Floresta D'Oeste</td>\n",
       "      <td>262076.878</td>\n",
       "      <td>10731.18</td>\n",
       "      <td>24422</td>\n",
       "      <td>1100015</td>\n",
       "      <td>-11.92830</td>\n",
       "      <td>-61.9953</td>\n",
       "    </tr>\n",
       "    <tr>\n",
       "      <th>1</th>\n",
       "      <td>Rondônia</td>\n",
       "      <td>0.702</td>\n",
       "      <td>0.600</td>\n",
       "      <td>0.806</td>\n",
       "      <td>0.716</td>\n",
       "      <td>RO</td>\n",
       "      <td>Ariquemes</td>\n",
       "      <td>1364693.780</td>\n",
       "      <td>15103.86</td>\n",
       "      <td>90353</td>\n",
       "      <td>1100023</td>\n",
       "      <td>-9.90571</td>\n",
       "      <td>-63.0325</td>\n",
       "    </tr>\n",
       "    <tr>\n",
       "      <th>2</th>\n",
       "      <td>Rondônia</td>\n",
       "      <td>0.650</td>\n",
       "      <td>0.559</td>\n",
       "      <td>0.757</td>\n",
       "      <td>0.650</td>\n",
       "      <td>RO</td>\n",
       "      <td>Cabixi</td>\n",
       "      <td>69611.114</td>\n",
       "      <td>11033.62</td>\n",
       "      <td>6309</td>\n",
       "      <td>1100031</td>\n",
       "      <td>-13.49450</td>\n",
       "      <td>-60.5520</td>\n",
       "    </tr>\n",
       "    <tr>\n",
       "      <th>3</th>\n",
       "      <td>Rondônia</td>\n",
       "      <td>0.718</td>\n",
       "      <td>0.620</td>\n",
       "      <td>0.821</td>\n",
       "      <td>0.727</td>\n",
       "      <td>RO</td>\n",
       "      <td>Cacoal</td>\n",
       "      <td>1186494.091</td>\n",
       "      <td>15095.15</td>\n",
       "      <td>78601</td>\n",
       "      <td>1100049</td>\n",
       "      <td>-11.43430</td>\n",
       "      <td>-61.4562</td>\n",
       "    </tr>\n",
       "    <tr>\n",
       "      <th>4</th>\n",
       "      <td>Rondônia</td>\n",
       "      <td>0.692</td>\n",
       "      <td>0.602</td>\n",
       "      <td>0.799</td>\n",
       "      <td>0.688</td>\n",
       "      <td>RO</td>\n",
       "      <td>Cerejeiras</td>\n",
       "      <td>222021.189</td>\n",
       "      <td>13037.06</td>\n",
       "      <td>17030</td>\n",
       "      <td>1100056</td>\n",
       "      <td>-13.18700</td>\n",
       "      <td>-60.8168</td>\n",
       "    </tr>\n",
       "  </tbody>\n",
       "</table>\n",
       "</div>"
      ],
      "text/plain": [
       "  stateName   idhm  idhmEducation  idhmLongevity  idhmIncome state  \\\n",
       "0  Rondônia  0.641          0.526          0.763       0.657    RO   \n",
       "1  Rondônia  0.702          0.600          0.806       0.716    RO   \n",
       "2  Rondônia  0.650          0.559          0.757       0.650    RO   \n",
       "3  Rondônia  0.718          0.620          0.821       0.727    RO   \n",
       "4  Rondônia  0.692          0.602          0.799       0.688    RO   \n",
       "\n",
       "                    city          gdp  gdpPerCapita  population     ibge  \\\n",
       "0  Alta Floresta D'Oeste   262076.878      10731.18       24422  1100015   \n",
       "1              Ariquemes  1364693.780      15103.86       90353  1100023   \n",
       "2                 Cabixi    69611.114      11033.62        6309  1100031   \n",
       "3                 Cacoal  1186494.091      15095.15       78601  1100049   \n",
       "4             Cerejeiras   222021.189      13037.06       17030  1100056   \n",
       "\n",
       "   latitude  logintude  \n",
       "0 -11.92830   -61.9953  \n",
       "1  -9.90571   -63.0325  \n",
       "2 -13.49450   -60.5520  \n",
       "3 -11.43430   -61.4562  \n",
       "4 -13.18700   -60.8168  "
      ]
     },
     "execution_count": 11,
     "metadata": {},
     "output_type": "execute_result"
    }
   ],
   "source": [
    "df.head()"
   ]
  },
  {
   "cell_type": "code",
   "execution_count": 13,
   "metadata": {},
   "outputs": [],
   "source": [
    "from tqdm import tqdm"
   ]
  },
  {
   "cell_type": "code",
   "execution_count": 17,
   "metadata": {},
   "outputs": [
    {
     "data": {
      "text/plain": [
       "(5564, 13)"
      ]
     },
     "execution_count": 17,
     "metadata": {},
     "output_type": "execute_result"
    }
   ],
   "source": [
    "df.shape"
   ]
  },
  {
   "cell_type": "code",
   "execution_count": null,
   "metadata": {},
   "outputs": [
    {
     "name": "stderr",
     "output_type": "stream",
     "text": [
      "  7%|▋         | 364/5564 [04:26<1:00:06,  1.44it/s]"
     ]
    }
   ],
   "source": [
    "for document in tqdm(df.to_dict(orient='records')):\n",
    "    \n",
    "    # Mudando IDs\n",
    "    counted = 100\n",
    "    while counted != 0:\n",
    "        _id = id_generator()\n",
    "        counted = client['gyramais']['socioEconomic'].count_documents({ '_id' : _id})\n",
    "\n",
    "    if client['gyramais']['socioEconomic'].count_documents({ 'ibge' : document['ibge']}) > 0:\n",
    "\n",
    "        _id = list(client['gyramais']['socioEconomic'].find({ 'ibge' : document['ibge']}, { '_id' : True}))[0]['_id']\n",
    "    \n",
    "    document['_id'] = _id\n",
    "    \n",
    "    #document['_acl'] = {}\n",
    "    #document['_acl']['superuser'] = {'w': True, 'r': True} \n",
    "    #document['_acl']['administrator'] = {'r': True}\n",
    "    #document['_rperm'] = ['superuser', 'administrator'],\n",
    "    #document['_wperm'] = ['superuser']\n",
    "    \n",
    "    client['gyramais']['socioEconomic'].replace_one({'_id':document['_id']}, document, True)\n",
    "    \n",
    "client.close()"
   ]
  },
  {
   "cell_type": "code",
   "execution_count": null,
   "metadata": {},
   "outputs": [],
   "source": []
  }
 ],
 "metadata": {
  "kernelspec": {
   "display_name": "Python 3",
   "language": "python",
   "name": "python3"
  },
  "language_info": {
   "codemirror_mode": {
    "name": "ipython",
    "version": 3
   },
   "file_extension": ".py",
   "mimetype": "text/x-python",
   "name": "python",
   "nbconvert_exporter": "python",
   "pygments_lexer": "ipython3",
   "version": "3.8.5"
  }
 },
 "nbformat": 4,
 "nbformat_minor": 4
}
